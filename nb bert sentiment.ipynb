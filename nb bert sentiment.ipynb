{
 "cells": [
  {
   "cell_type": "code",
   "execution_count": 1,
   "metadata": {},
   "outputs": [],
   "source": [
    "#!pip install transformers\n",
    "from transformers import pipeline\n",
    "import torch\n",
    "\n",
    "classifier = pipeline(\"zero-shot-classification\", model='NbAiLab/nb-bert-base-mnli')\n"
   ]
  },
  {
   "cell_type": "code",
   "execution_count": 2,
   "metadata": {},
   "outputs": [],
   "source": [
    "sequences = ['Copper Inside er importert av Dui Clinique AS, distribuert videre til andre aktører og solgt i flere nettbutikker i Norge og andre europeiske land. Utstyret inneholder dikobberoksid, og er markedsført som «gjenbrukbare kobbermunnbind».',\n",
    "'Kom til VM med ett mål og det var medalje på sprinten. Det klarte hun mot alle odds. Sesongen har vært fryktelig vanskelig, men på en nesten utrolig måte klarte hun å toppe formen til klassisk sprinten.',\n",
    "'Lagets yngste tok ansvar som ankerkvinne og sikret stafettgull. Leverer to meget gode renn individuelt også.',\n",
    "'Andelen nordmenn som sier de tror på Gud, har falt fra 53 prosent til 30 prosent på 35 år. Human-Etisk Forbund mener norsk politikk er i utakt med befolkningen.',\n",
    "'Andelen som ser på seg selv som personlig kristne, har gått ned fra 24 prosent til 21 prosent de siste to åra. På lang sikt har imidlertid denne andelen imidlertid holdt seg stabil og er nå på nivået med målingene på midten av 1980-tallet.',\n",
    "'Unge fortvilte mennesker, mange med selvmordstanker, har det siste året tatt kontakt med Mental Helse. Pågangen har vært så stor at organisasjonen bare klarer å besvare halvparten av alle som ringer.',\n",
    "'Forskning viser at ryggsmerter kan være et tidlig symptom på coronaviruset.',\n",
    "'Det var etter at Ødegaard ble utelatt fra kamptroppen i Real Madrids cupkamp mot Alcoyano at ryktene virkelig begynte å røre på seg.']"
   ]
  },
  {
   "cell_type": "code",
   "execution_count": null,
   "metadata": {
    "pycharm": {
     "is_executing": true
    }
   },
   "outputs": [
    {
     "name": "stderr",
     "output_type": "stream",
     "text": [
      "The `multi_class` argument has been deprecated and renamed to `multi_label`. `multi_class` will be removed in a future version of Transformers.\n"
     ]
    }
   ],
   "source": [
    "#The default hypothesis_template is \"This text is about{}\". We need to change this on a Norwegian model\n",
    "#For a simple sentiment analysis. Change it to for instance \"Sentimentet i denne teksten er {}.\"\n",
    "\n",
    "hypothesis_template = \"Dette eksempelet handler om {}.\"\n",
    "\n",
    "#Some sample categories\n",
    "candidate_labels = [\"positiv\", \"nøytral\", \"negativ\"]\n",
    "\n",
    "#Let us pass this to the classifier and allow for multiple labels to be selected\n",
    "result = classifier(sequences, candidate_labels, hypothesis_template=hypothesis_template, multi_label=False)\n",
    "\n",
    "#Loop through the result\n",
    "for r in result:\n",
    "  print(f'\\n{r[\"sequence\"]}')\n",
    "  print(f'{r[\"scores\"][0]:.2f} - {r[\"labels\"][0]}')"
   ]
  },
  {
   "cell_type": "code",
   "execution_count": null,
   "metadata": {
    "pycharm": {
     "is_executing": true
    }
   },
   "outputs": [],
   "source": [
    "import json\n",
    "\n",
    "candidate_labels = [\"positiv\", \"nøytral\", \"negativ\"]\n",
    "\n",
    "\n",
    "with open('./norbench/3polarity.json') as polarity_data:\n",
    "    polarity_array = json.load(polarity_data)\n",
    "    \n",
    "    inputs = [datapoint['text'] for datapoint in polarity_array]\n",
    "    labels = [datapoint['label'] for datapoint in polarity_array]\n",
    "    \n",
    "\n",
    "    print(len(inputs))\n",
    "    print(len(labels))\n",
    "    "
   ]
  },
  {
   "cell_type": "code",
   "execution_count": null,
   "metadata": {
    "pycharm": {
     "is_executing": true
    }
   },
   "outputs": [],
   "source": []
  },
  {
   "cell_type": "code",
   "execution_count": null,
   "metadata": {
    "pycharm": {
     "is_executing": true
    }
   },
   "outputs": [],
   "source": []
  }
 ],
 "metadata": {
  "kernelspec": {
   "display_name": "Python 3",
   "language": "python",
   "name": "python3"
  },
  "language_info": {
   "codemirror_mode": {
    "name": "ipython",
    "version": 3
   },
   "file_extension": ".py",
   "mimetype": "text/x-python",
   "name": "python",
   "nbconvert_exporter": "python",
   "pygments_lexer": "ipython3",
   "version": "3.8.2"
  }
 },
 "nbformat": 4,
 "nbformat_minor": 4
}