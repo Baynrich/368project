{
 "cells": [
  {
   "cell_type": "code",
   "execution_count": null,
   "outputs": [],
   "source": [
    "import Models\n",
    "import numpy as np\n",
    "from conllu import parse\n",
    "from tensorflow.keras.preprocessing.sequence import pad_sequences\n",
    "from transformers import AdamW\n",
    "from transformers import get_linear_schedule_with_warmup\n",
    "from seqeval.metrics import f1_score, accuracy_score\n",
    "from tqdm import trange\n",
    "\n",
    "import torch\n",
    "from torch.utils.data import TensorDataset, DataLoader, RandomSampler, SequentialSampler"
   ],
   "metadata": {
    "collapsed": false,
    "pycharm": {
     "name": "#%%\n"
    }
   }
  },
  {
   "cell_type": "code",
   "execution_count": null,
   "outputs": [],
   "source": [
    "pos_tag = True"
   ],
   "metadata": {
    "collapsed": false,
    "pycharm": {
     "name": "#%%\n"
    }
   }
  },
  {
   "cell_type": "code",
   "execution_count": null,
   "outputs": [],
   "source": [
    "class FormatData:\n",
    "\n",
    "    def __init__(self, data):\n",
    "        self.formatted_data = [[(token['form'], str(token['head']), token['misc']) for token in sentence] for sentence in data]\n",
    "\n",
    "    def __getitem__(self, index):\n",
    "        return self.formatted_data[index]\n",
    "\n",
    "    def __len__(self):\n",
    "        return len(self.formatted_data)\n",
    "\n",
    "\n",
    "\n",
    "def get_data():\n",
    "    with open(\"../Data/pos_tagging/no_bokmaal-ud-train.conllu.txt\", 'r', encoding=\"utf-8\") as file:\n",
    "        nb_train = file.read()\n",
    "    with open(\"../Data/pos_tagging/no_nynorsk-ud-train.conllu.txt\", 'r', encoding=\"utf-8\") as file:\n",
    "        no_train = file.read()\n",
    "\n",
    "    with open(\"../Data/pos_tagging/no_bokmaal-ud-test.conllu.txt\", 'r', encoding=\"utf-8\") as file:\n",
    "        nb_test = file.read()\n",
    "    with open(\"../Data/pos_tagging/no_nynorsk-ud-test.conllu.txt\", 'r', encoding=\"utf-8\") as file:\n",
    "        no_test = file.read()\n",
    "\n",
    "\n",
    "    sentences = parse(nb_test)\n",
    "    test_len_nb = len(sentences)\n",
    "    sentences_train = parse(nb_train)\n",
    "    sentences.extend(sentences_train)\n",
    "\n",
    "    sentences_no = parse(no_test)\n",
    "    test_len_no = len(sentences_no)\n",
    "    sentences_no_train = parse(no_train)\n",
    "    sentences_no.extend(sentences_no_train)\n",
    "    return sentences, test_len_nb, sentences_no, test_len_no\n",
    "\n",
    "sentences, test_len, sentences_no, test_len_no = get_data()\n",
    "\n",
    "print(sentences)"
   ],
   "metadata": {
    "collapsed": false,
    "pycharm": {
     "name": "#%%\n"
    }
   }
  },
  {
   "cell_type": "code",
   "execution_count": null,
   "outputs": [],
   "source": [],
   "metadata": {
    "collapsed": false,
    "pycharm": {
     "name": "#%%\n"
    }
   }
  },
  {
   "cell_type": "code",
   "execution_count": null,
   "outputs": [],
   "source": [
    "sentences = FormatData(sentences)"
   ],
   "metadata": {
    "collapsed": false,
    "pycharm": {
     "name": "#%%\n"
    }
   }
  },
  {
   "cell_type": "code",
   "execution_count": null,
   "outputs": [],
   "source": [
    "def tokenize_and_preserve_labels(sentence, tokenizer, pos_tag=False):\n",
    "    tokenized_sentence = []\n",
    "    labels = []\n",
    "\n",
    "    for word, tag, label in sentence:\n",
    "        label = label['name']\n",
    "        if pos_tag:\n",
    "            label = tag\n",
    "        # Tokenize the word and count # of subwords the word is broken into\n",
    "        tokenized_word = tokenizer.tokenize(word)\n",
    "        n_subwords = len(tokenized_word)\n",
    "\n",
    "        # Add the tokenized word to the final tokenized word list\n",
    "        tokenized_sentence.extend(tokenized_word)\n",
    "\n",
    "        # Add the same label to the new list of labels `n_subwords` times\n",
    "        labels.extend([label] * n_subwords)\n",
    "\n",
    "    return tokenized_sentence, labels\n",
    "\n",
    "def get_tag(sentences, pos_tag=False):\n",
    "    tag_values = []\n",
    "    for sentence in sentences:\n",
    "        for s, t, l in sentence:\n",
    "            if pos_tag:\n",
    "                tag_values.append(t)\n",
    "            else:\n",
    "                tag_values.append(l['name'])\n",
    "    tag_values = list(set(tag_values))\n",
    "    tag_values.append(\"PAD\")\n",
    "    return tag_values\n",
    "\n",
    "def get_tag2idx(set_of_t):\n",
    "    return {t: i for i, t in enumerate(set_of_t)}, set_of_t"
   ],
   "metadata": {
    "collapsed": false,
    "pycharm": {
     "name": "#%%\n"
    }
   }
  },
  {
   "cell_type": "code",
   "execution_count": null,
   "outputs": [],
   "source": [
    "tag2idx, tag_values = get_tag2idx(get_tag(sentences, pos_tag=pos_tag))\n",
    "\n"
   ],
   "metadata": {
    "collapsed": false,
    "pycharm": {
     "name": "#%%\n"
    }
   }
  },
  {
   "cell_type": "code",
   "execution_count": null,
   "outputs": [],
   "source": [
    "def data_helper_tokenize_and_format(tokenizer, sentences, pos_tag=False):\n",
    "    MAX_LEN = 75\n",
    "\n",
    "    tokenized_bert_text_and_labels = [tokenize_and_preserve_labels(sentence, tokenizer, pos_tag=pos_tag)\n",
    "                                      for sentence in sentences]\n",
    "\n",
    "    bert_tokenized_text = [t for t, l in tokenized_bert_text_and_labels]\n",
    "    bert_labels = [l for t, l in tokenized_bert_text_and_labels]\n",
    "\n",
    "    input_ids = pad_sequences([tokenizer.convert_tokens_to_ids(txt) for txt in bert_tokenized_text],\n",
    "                              maxlen=MAX_LEN, dtype='long', value=0.0, truncating='post',\n",
    "                              padding='post')\n",
    "    tags = pad_sequences([[tag2idx.get(l) for l in label] for label in bert_labels],\n",
    "                         maxlen=MAX_LEN, value=tag2idx[\"PAD\"], padding=\"post\",\n",
    "                         dtype=\"long\", truncating=\"post\")\n",
    "    attention_masks = [[float(i != 0.0) for i in ii] for ii in input_ids]\n",
    "\n",
    "    return input_ids, tags, attention_masks\n",
    "\n",
    "\n",
    "def data_helper_torch_datasets(input_ids, tags, attention_masks):\n",
    "    test_input, train_input = input_ids[:test_len], input_ids[test_len:]\n",
    "    test_tags, train_tags = tags[:test_len], tags[test_len:]\n",
    "    test_masks, train_masks = attention_masks[:test_len], attention_masks[test_len:]\n",
    "\n",
    "    train_inputs = torch.tensor(train_input)\n",
    "    test_inputs = torch.tensor(test_input)\n",
    "    train_tags = torch.tensor(train_tags).long()\n",
    "    test_tags = torch.tensor(test_tags).long()\n",
    "    train_masks = torch.tensor(train_masks)\n",
    "    test_masks = torch.tensor(test_masks)\n",
    "\n",
    "    train_data = TensorDataset(train_inputs, train_masks, train_tags)\n",
    "    train_sampler = RandomSampler(train_data)\n",
    "    train_dataloader = DataLoader(train_data, sampler=train_sampler, batch_size=8)\n",
    "\n",
    "    test_data = TensorDataset(test_inputs, test_masks, test_tags)\n",
    "    test_sampler = SequentialSampler(test_data)\n",
    "    test_dataloader = DataLoader(test_data, sampler=test_sampler, batch_size=8)\n",
    "    return train_dataloader, test_dataloader"
   ],
   "metadata": {
    "collapsed": false,
    "pycharm": {
     "name": "#%%\n"
    }
   }
  },
  {
   "cell_type": "code",
   "execution_count": null,
   "outputs": [],
   "source": [
    "def train_and_test_model_on_ner(pipeline, name, sentences, epochs=10, pos_tag=False):\n",
    "\n",
    "    model = pipeline.model\n",
    "\n",
    "    input_ids, tags, attention_masks = data_helper_tokenize_and_format(pipeline.tokenizer, sentences, pos_tag=pos_tag)\n",
    "    train_dataloader, test_dataloader = data_helper_torch_datasets(input_ids, tags, attention_masks)\n",
    "\n",
    "\n",
    "\n",
    "    FULL_FINETUNING = True\n",
    "    if FULL_FINETUNING:\n",
    "        param_optimizer = list(model.named_parameters())\n",
    "        no_decay = ['bias', 'gamma', 'beta']\n",
    "        optimizer_grouped_parameters = [\n",
    "            {'params': [p for n, p in param_optimizer if not any(nd in n for nd in no_decay)],\n",
    "             'weight_decay_rate': 0.01},\n",
    "            {'params': [p for n, p in param_optimizer if any(nd in n for nd in no_decay)],\n",
    "             'weight_decay_rate': 0.0}\n",
    "        ]\n",
    "    else:\n",
    "        param_optimizer = list(model.classifier.named_parameters())\n",
    "        optimizer_grouped_parameters = [{\"params\": [p for n, p in param_optimizer]}]\n",
    "\n",
    "    optimizer = AdamW(\n",
    "        optimizer_grouped_parameters,\n",
    "        lr=3e-5,\n",
    "        eps=1e-8\n",
    "    )\n",
    "\n",
    "\n",
    "    max_grad_norm = 1.0\n",
    "\n",
    "    # Total number of training steps is number of batches * number of epochs.\n",
    "    total_steps = len(train_dataloader) * epochs\n",
    "\n",
    "    # Create the learning rate scheduler.\n",
    "    scheduler = get_linear_schedule_with_warmup(\n",
    "        optimizer,\n",
    "        num_warmup_steps=0,\n",
    "        num_training_steps=total_steps\n",
    "    )\n",
    "\n",
    "    ## Store the average loss after each epoch so we can plot them.\n",
    "    loss_values, testing_loss_values = [], []\n",
    "    device = torch.device(\"cuda\" if torch.cuda.is_available() else \"cpu\")\n",
    "    model.to(device)\n",
    "\n",
    "    for _ in trange(epochs, desc=\"Epoch\"):\n",
    "        # ========================================\n",
    "        #               Training\n",
    "        # ========================================\n",
    "        # Perform one full pass over the training set.\n",
    "\n",
    "        # Put the model into training mode.\n",
    "        model.train()\n",
    "        # Reset the total loss for this epoch.\n",
    "        total_loss = 0\n",
    "\n",
    "        # Training loop\n",
    "        for step, batch in enumerate(train_dataloader):\n",
    "            # add batch to gpu\n",
    "            batch = tuple(t.to(device) for t in batch)\n",
    "            b_input_ids, b_input_mask, b_labels = batch\n",
    "            # Always clear any previously calculated gradients before performing a backward pass.\n",
    "            model.zero_grad()\n",
    "            # forward pass\n",
    "            # This will return the loss (rather than the model output)\n",
    "            # because we have provided the `labels`.\n",
    "            outputs = model(b_input_ids, token_type_ids=None,\n",
    "                            attention_mask=b_input_mask, labels=b_labels)\n",
    "\n",
    "            # get the loss\n",
    "            loss = outputs[0]\n",
    "            # Perform a backward pass to calculate the gradients.\n",
    "            loss.backward()\n",
    "            # track train loss\n",
    "            total_loss += loss.item()\n",
    "            # Clip the norm of the gradient\n",
    "            # This is to help prevent the \"exploding gradients\" problem.\n",
    "            torch.nn.utils.clip_grad_norm_(parameters=model.parameters(), max_norm=max_grad_norm)\n",
    "            # update parameters\n",
    "            optimizer.step()\n",
    "            # Update the learning rate.\n",
    "            scheduler.step()\n",
    "\n",
    "        # Calculate the average loss over the training data.\n",
    "        avg_train_loss = total_loss / len(train_dataloader)\n",
    "        print(\"Average train loss: {}\".format(avg_train_loss))\n",
    "\n",
    "        # Store the loss value for plotting the learning curve.\n",
    "        loss_values.append(avg_train_loss)\n",
    "\n",
    "\n",
    "        # ========================================\n",
    "        #               testing\n",
    "        # ========================================\n",
    "        # After the completion of each training epoch, measure our performance on\n",
    "        # our testing set.\n",
    "\n",
    "        # Put the model into evaluation mode\n",
    "        model.eval()\n",
    "        # Reset the testing loss for this epoch.\n",
    "        eval_loss, eval_accuracy = 0, 0\n",
    "        nb_eval_steps, nb_eval_examples = 0, 0\n",
    "        predictions , true_labels = [], []\n",
    "        for batch in test_dataloader:\n",
    "            batch = tuple(t.to(device) for t in batch)\n",
    "            b_input_ids, b_input_mask, b_labels = batch\n",
    "            # Telling the model not to compute or store gradients,\n",
    "            # saving memory and speeding up testing\n",
    "            with torch.no_grad():\n",
    "                # Forward pass, calculate logit predictions.\n",
    "                # This will return the logits rather than the loss because we have not provided labels.\n",
    "                outputs = model(b_input_ids, token_type_ids=None,\n",
    "                                attention_mask=b_input_mask, labels=b_labels)\n",
    "            # Move logits and labels to CPU\n",
    "            logits = outputs[1].detach().cpu().numpy()\n",
    "            label_ids = b_labels.to('cpu').numpy()\n",
    "\n",
    "            # Calculate the accuracy for this batch of test sentences.\n",
    "            eval_loss += outputs[0].mean().item()\n",
    "            predictions.extend([list(p) for p in np.argmax(logits, axis=2)])\n",
    "            true_labels.extend(label_ids)\n",
    "\n",
    "        eval_loss = eval_loss / len(test_dataloader)\n",
    "        testing_loss_values.append(eval_loss)\n",
    "        print(f\"Model: {name} scores\")\n",
    "        print(\"testing loss: {}\".format(eval_loss))\n",
    "        pred_tags = []\n",
    "        test_tags = []\n",
    "        for p, l in zip(predictions, true_labels):\n",
    "            curr_p = []\n",
    "            curr_l = []\n",
    "            for p_i, l_i in zip(p, l):\n",
    "                if tag_values[l_i] != \"PAD\":\n",
    "                    curr_p.append(tag_values[p_i])\n",
    "                    curr_l.append(tag_values[l_i])\n",
    "            pred_tags.append(curr_p)\n",
    "            test_tags.append(curr_l)\n",
    "\n",
    "        print(\"testing Accuracy: {}\".format(accuracy_score(pred_tags, test_tags)))\n",
    "        print(\"testing F1-Score: {}\".format(f1_score(pred_tags, test_tags)))\n"
   ],
   "metadata": {
    "collapsed": false,
    "pycharm": {
     "name": "#%%\n"
    }
   }
  },
  {
   "cell_type": "code",
   "execution_count": null,
   "outputs": [],
   "source": [
    "train_and_test_model_on_ner(Models.get_nor_bert(len(tag2idx), task='ner'), \"NOR-BERT\", sentences, pos_tag=pos_tag)\n",
    "train_and_test_model_on_ner(Models.get_nb_bert(len(tag2idx), task='ner'), \"NB-BERT\", sentences, pos_tag=pos_tag)\n",
    "train_and_test_model_on_ner(Models.get_mbert(len(tag2idx), task='ner'), \"mBert\", sentences, pos_tag=pos_tag)\n"
   ],
   "metadata": {
    "collapsed": false,
    "pycharm": {
     "name": "#%%\n"
    }
   }
  }
 ],
 "metadata": {
  "kernelspec": {
   "display_name": "Python 3",
   "language": "python",
   "name": "python3"
  },
  "language_info": {
   "codemirror_mode": {
    "name": "ipython",
    "version": 2
   },
   "file_extension": ".py",
   "mimetype": "text/x-python",
   "name": "python",
   "nbconvert_exporter": "python",
   "pygments_lexer": "ipython2",
   "version": "2.7.6"
  }
 },
 "nbformat": 4,
 "nbformat_minor": 0
}